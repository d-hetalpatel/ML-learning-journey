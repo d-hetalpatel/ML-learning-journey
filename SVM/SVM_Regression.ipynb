{
 "cells": [
  {
   "cell_type": "markdown",
   "id": "daffd02a-0a7c-4977-80d4-9192dc51a0de",
   "metadata": {},
   "source": [
    "# Support Vector Machine (SVM) - Regression (SVR)\n",
    "\n",
    "### What is SVR?\n",
    "Support Vector Regression (SVR) is an extension of SVM for **regression problems**.  \n",
    "Instead of finding a hyperplane to separate classes, SVR tries to fit the data within a **tube (epsilon margin)** around the regression function.  \n",
    "\n",
    "- **Objective:** Minimize error within the margin while keeping the model as simple (flat) as possible.  \n",
    "- **Kernels:** Like SVM, SVR can use kernels (RBF, polynomial, etc.) to handle non-linear relationships.  \n",
    "\n",
    "### Why California Housing Dataset?\n",
    "- A popular dataset where the goal is to predict **median house value** from features such as:  \n",
    "  - Median income  \n",
    "  - House age  \n",
    "  - Average rooms, population, etc.  \n",
    "- Regression task → output is a continuous variable (house price).  \n",
    "\n",
    "### What We Do in This Notebook:\n",
    "1. Load the **California Housing dataset**.  \n",
    "2. Standardize features using **StandardScaler** (important for SVR).  \n",
    "3. Split into **training and test sets**.  \n",
    "4. Use **GridSearchCV** to tune hyperparameters (`C`, `gamma`, `kernel`).  \n",
    "5. Train the best SVR model.  \n",
    "6. Evaluate performance using:  \n",
    "   - **Root Mean Squared Error (RMSE)**  \n",
    "   - **Actual vs Predicted scatter plot**  \n",
    "\n",
    "### Expected Output\n",
    "- Best hyperparameters chosen by GridSearchCV.  \n",
    "- Reasonable RMSE value on the test set.  \n",
    "- Scatter plot showing how closely predictions match actual house values.  \n"
   ]
  },
  {
   "cell_type": "markdown",
   "id": "797c7f9f-1ad3-40d3-adc3-e33ffb07f76e",
   "metadata": {},
   "source": [
    "### SVM Regression on California Housing Dataset"
   ]
  },
  {
   "cell_type": "code",
   "execution_count": 1,
   "id": "52c8c20e-0164-4586-bf41-923c92421751",
   "metadata": {},
   "outputs": [],
   "source": [
    "# Imports\n",
    "import numpy as np\n",
    "import matplotlib.pyplot as plt\n",
    "from sklearn.datasets import fetch_california_housing\n",
    "from sklearn.model_selection import train_test_split, GridSearchCV\n",
    "from sklearn.svm import SVR\n",
    "from sklearn.preprocessing import StandardScaler\n",
    "from sklearn.metrics import root_mean_squared_error"
   ]
  },
  {
   "cell_type": "code",
   "execution_count": 2,
   "id": "9dc39b36-9c58-42c9-9b25-36dc3279d23c",
   "metadata": {},
   "outputs": [],
   "source": [
    "# Load dataset\n",
    "# California Housing dataset: Predict house value from features\n",
    "data = fetch_california_housing()\n",
    "X, y = data.data, data.target\n",
    "\n",
    "# Standardize features (important for SVR performance)\n",
    "scaler = StandardScaler()\n",
    "X_scaled = scaler.fit_transform(X)\n",
    "\n",
    "# Train-test split (80/20)\n",
    "X_train, X_test, y_train, y_test = train_test_split(X_scaled, y, test_size=0.2, random_state=42)"
   ]
  },
  {
   "cell_type": "code",
   "execution_count": 3,
   "id": "5a9f82ef-5fc3-4758-b32c-cc9a00ca7eba",
   "metadata": {},
   "outputs": [],
   "source": [
    "#  Define parameter grid ---\n",
    "param_grid = {\n",
    "    'C': [0.1, 1, 10],      # Regularization\n",
    "    'gamma': [0.01, 0.1, 'scale'],\n",
    "    'kernel': ['rbf']       # RBF works well for regression\n",
    "}"
   ]
  },
  {
   "cell_type": "code",
   "execution_count": null,
   "id": "cec14d14-80cc-45ac-b07e-2f3bf7313a53",
   "metadata": {},
   "outputs": [],
   "source": [
    "# Train with GridSearchCV ---\n",
    "gcv = GridSearchCV(SVR(), param_grid, cv=3, scoring='neg_root_mean_squared_error')\n",
    "gcv.fit(X_train, y_train)\n",
    "\n",
    "best_model = gcv.best_estimator_\n",
    "print(\"Best Parameters:\", gcv.best_params_)"
   ]
  },
  {
   "cell_type": "code",
   "execution_count": null,
   "id": "b043684b-31cc-44f7-9c04-80c78de5c929",
   "metadata": {},
   "outputs": [],
   "source": [
    "# Evaluate on test set ---\n",
    "y_pred = best_model.predict(X_test)\n",
    "\n",
    "rmse = root_mean_squared_error(y_test, y_pred)\n",
    "print(\"Test RMSE:\", rmse)"
   ]
  },
  {
   "cell_type": "code",
   "execution_count": null,
   "id": "d06c8b26-c7af-42f6-b1b5-065ce93586fa",
   "metadata": {},
   "outputs": [],
   "source": [
    "# Scatter Plot of Predictions ---\n",
    "plt.scatter(y_test, y_pred, alpha=0.5)\n",
    "plt.xlabel(\"Actual Values\")\n",
    "plt.ylabel(\"Predicted Values\")\n",
    "plt.title(\"SVR - Actual vs Predicted (California Housing)\")\n",
    "plt.show()"
   ]
  }
 ],
 "metadata": {
  "kernelspec": {
   "display_name": "Python [conda env:base] *",
   "language": "python",
   "name": "conda-base-py"
  },
  "language_info": {
   "codemirror_mode": {
    "name": "ipython",
    "version": 3
   },
   "file_extension": ".py",
   "mimetype": "text/x-python",
   "name": "python",
   "nbconvert_exporter": "python",
   "pygments_lexer": "ipython3",
   "version": "3.13.5"
  }
 },
 "nbformat": 4,
 "nbformat_minor": 5
}
