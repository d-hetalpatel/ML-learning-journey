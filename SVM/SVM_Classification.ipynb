{
 "cells": [
  {
   "cell_type": "markdown",
   "id": "4c049023-fb9b-4b3b-a39b-31ba785c242d",
   "metadata": {},
   "source": [
    "# Support Vector Machine (SVM) - Classification\n",
    "\n",
    "### What is SVM?\n",
    "Support Vector Machine (SVM) is a powerful supervised machine learning algorithm used for **classification** and **regression**.  \n",
    "In classification, SVM finds the **optimal hyperplane** that best separates different classes in the feature space.  \n",
    "\n",
    "- **Margin:** SVM maximizes the distance (margin) between the separating hyperplane and the closest data points (support vectors).  \n",
    "- **Kernels:** When data is not linearly separable, SVM uses kernel functions (like **RBF**) to project it into higher dimensions where separation is possible.  \n",
    "\n",
    "### Why Breast Cancer Dataset?\n",
    "- A well-known dataset with 30 numeric features describing tumors.  \n",
    "- Target variable:  \n",
    "  - `0 = malignant` (cancerous)  \n",
    "  - `1 = benign` (non-cancerous)  \n",
    "- Goal: Predict whether a tumor is malignant or benign.  \n",
    "\n",
    "### What We Do in This Notebook:\n",
    "1. Load the **Breast Cancer dataset**.  \n",
    "2. Split into **training and test sets**.  \n",
    "3. Use **GridSearchCV** to tune hyperparameters (`C`, `gamma`, `kernel`).  \n",
    "4. Train the best SVM model.  \n",
    "5. Evaluate performance using:  \n",
    "   - **Accuracy Score**  \n",
    "   - **Classification Report** (precision, recall, f1-score)  \n",
    "   - **Confusion Matrix Visualization**  \n",
    "\n",
    "### Expected Output\n",
    "- Best hyperparameters chosen by GridSearchCV.  \n",
    "- High accuracy (typically > 90%) on the test set.  \n",
    "- Clear confusion matrix showing classification results.  \n"
   ]
  },
  {
   "cell_type": "markdown",
   "id": "98e315f4-e14b-4d9b-b96e-890f7c14e3a2",
   "metadata": {},
   "source": [
    "### SVM Classification on Breast Cancer Dataset"
   ]
  },
  {
   "cell_type": "code",
   "execution_count": 31,
   "id": "52bd8450-229d-4e9a-aa28-30163f42aadf",
   "metadata": {},
   "outputs": [],
   "source": [
    "#  Imports \n",
    "import numpy as np\n",
    "import matplotlib.pyplot as plt\n",
    "from sklearn.datasets import load_breast_cancer\n",
    "from sklearn.model_selection import train_test_split, GridSearchCV\n",
    "from sklearn.svm import SVC\n",
    "from sklearn.metrics import accuracy_score, classification_report, ConfusionMatrixDisplay"
   ]
  },
  {
   "cell_type": "code",
   "execution_count": 32,
   "id": "ded2654b-d0be-439e-abe4-f449f5cd9618",
   "metadata": {},
   "outputs": [],
   "source": [
    "# Load dataset \n",
    "# Breast Cancer dataset: 30 features of tumors\n",
    "# Target: 0 = malignant, 1 = benign\n",
    "data = load_breast_cancer()\n",
    "X, y = data.data, data.target\n",
    "# Split into train and test sets (80/20)\n",
    "X_train, X_test, y_train, y_test = train_test_split(X, y, test_size=0.2, random_state=42)"
   ]
  },
  {
   "cell_type": "code",
   "execution_count": 33,
   "id": "61f5ab29-44fc-468b-8740-b399c122621d",
   "metadata": {},
   "outputs": [],
   "source": [
    "# Define parameter grid for hyperparameter tuning \n",
    "param_grid = {\n",
    "    'C': [0.1, 1, 10],             # Regularization strength\n",
    "    'gamma': [0.01, 0.1, 'scale'], # Kernel coefficient\n",
    "    'kernel': ['rbf']              # Radial Basis Function kernel\n",
    "}\n"
   ]
  },
  {
   "cell_type": "code",
   "execution_count": 34,
   "id": "e7b54216-6084-4c3e-9406-bc915fdeb228",
   "metadata": {},
   "outputs": [
    {
     "name": "stdout",
     "output_type": "stream",
     "text": [
      "Best Parameters: {'C': 10, 'gamma': 'scale', 'kernel': 'rbf'}\n"
     ]
    }
   ],
   "source": [
    "# Train with GridSearchCV\n",
    "gcv = GridSearchCV(SVC(), param_grid, cv=5, scoring='accuracy')\n",
    "gcv.fit(X_train, y_train)\n",
    "\n",
    "best_model = gcv.best_estimator_\n",
    "print(\"Best Parameters:\", gcv.best_params_)\n"
   ]
  },
  {
   "cell_type": "code",
   "execution_count": 35,
   "id": "2e17373e-e254-4201-98bb-d1d2b2072dec",
   "metadata": {},
   "outputs": [
    {
     "name": "stdout",
     "output_type": "stream",
     "text": [
      "Test Accuracy: 0.9473684210526315\n",
      "\n",
      "Classification Report:\n",
      "               precision    recall  f1-score   support\n",
      "\n",
      "           0       1.00      0.86      0.93        43\n",
      "           1       0.92      1.00      0.96        71\n",
      "\n",
      "    accuracy                           0.95       114\n",
      "   macro avg       0.96      0.93      0.94       114\n",
      "weighted avg       0.95      0.95      0.95       114\n",
      "\n"
     ]
    }
   ],
   "source": [
    "# Evaluate on test set\n",
    "y_pred = best_model.predict(X_test)\n",
    "\n",
    "print(\"Test Accuracy:\", accuracy_score(y_test, y_pred))\n",
    "print(\"\\nClassification Report:\\n\", classification_report(y_test, y_pred))"
   ]
  },
  {
   "cell_type": "code",
   "execution_count": 36,
   "id": "0d3be5a9-41c3-450b-811a-beca3bff7bef",
   "metadata": {},
   "outputs": [
    {
     "data": {
      "image/png": "[encoded data removed]",
      "text/plain": [
       "<Figure size 640x480 with 2 Axes>"
      ]
     },
     "metadata": {},
     "output_type": "display_data"
    }
   ],
   "source": [
    "# Confusion Matrix Visualization\n",
    "ConfusionMatrixDisplay.from_estimator(best_model, X_test, y_test, cmap=\"Blues\")\n",
    "plt.title(\"Confusion Matrix - Breast Cancer (SVM)\")\n",
    "plt.show()"
   ]
  }
 ],
 "metadata": {
  "kernelspec": {
   "display_name": "Python [conda env:base] *",
   "language": "python",
   "name": "conda-base-py"
  },
  "language_info": {
   "codemirror_mode": {
    "name": "ipython",
    "version": 3
   },
   "file_extension": ".py",
   "mimetype": "text/x-python",
   "name": "python",
   "nbconvert_exporter": "python",
   "pygments_lexer": "ipython3",
   "version": "3.13.5"
  }
 },
 "nbformat": 4,
 "nbformat_minor": 5
}
